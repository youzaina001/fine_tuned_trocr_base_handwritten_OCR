{
 "cells": [
  {
   "cell_type": "markdown",
   "id": "50ea3a50",
   "metadata": {
    "id": "50ea3a50"
   },
   "source": [
    "# Model Training Script\n",
    "This notebook is a transformation of the provided Python script into a Jupyter notebook. The script is designed for training a VisionEncoderDecoderModel using a custom dataset."
   ]
  },
  {
   "cell_type": "code",
   "execution_count": null,
   "id": "kXK0WIFwhI6d",
   "metadata": {
    "colab": {
     "base_uri": "https://localhost:8080/"
    },
    "executionInfo": {
     "elapsed": 6013,
     "status": "ok",
     "timestamp": 1724758905347,
     "user": {
      "displayName": "Yassine Ouzaina",
      "userId": "01912818402851798301"
     },
     "user_tz": -120
    },
    "id": "kXK0WIFwhI6d",
    "outputId": "765b754b-2f27-4e9e-e6ba-824628ba9153",
    "tags": []
   },
   "outputs": [],
   "source": [
    "!pip install transformers datasets torch torchvision streamlit fastapi uvicorn accelerate sentencepiece\n",
    "!pip install tensorflow tf-keras"
   ]
  },
  {
   "cell_type": "code",
   "execution_count": null,
   "id": "FmJt7OQLjz2F",
   "metadata": {
    "executionInfo": {
     "elapsed": 291,
     "status": "ok",
     "timestamp": 1724758907277,
     "user": {
      "displayName": "Yassine Ouzaina",
      "userId": "01912818402851798301"
     },
     "user_tz": -120
    },
    "id": "FmJt7OQLjz2F",
    "tags": []
   },
   "outputs": [],
   "source": [
    "import os\n",
    "os.environ[\"TRANSFORMERS_NO_TF\"] = \"1\""
   ]
  },
  {
   "cell_type": "code",
   "execution_count": null,
   "id": "b50fa08f",
   "metadata": {
    "colab": {
     "base_uri": "https://localhost:8080/"
    },
    "executionInfo": {
     "elapsed": 24472,
     "status": "ok",
     "timestamp": 1724758934201,
     "user": {
      "displayName": "Yassine Ouzaina",
      "userId": "01912818402851798301"
     },
     "user_tz": -120
    },
    "id": "b50fa08f",
    "outputId": "d3faa4da-721c-4dec-e845-cf684053831c",
    "tags": []
   },
   "outputs": [],
   "source": [
    "import torch\n",
    "from PIL import Image\n",
    "from datasets import load_dataset\n",
    "from transformers import TrOCRProcessor, VisionEncoderDecoderModel, Seq2SeqTrainer, Seq2SeqTrainingArguments\n",
    "import gc\n",
    "\n",
    "# Checking if GPU is available\n",
    "device = torch.device(\"cuda\" if torch.cuda.is_available() else \"cpu\")\n",
    "print(device)"
   ]
  },
  {
   "cell_type": "markdown",
   "id": "b45c869e",
   "metadata": {
    "id": "b45c869e"
   },
   "source": [
    "## Dataset Loading and Model Preparation"
   ]
  },
  {
   "cell_type": "code",
   "execution_count": null,
   "id": "62af8c9e",
   "metadata": {
    "colab": {
     "base_uri": "https://localhost:8080/"
    },
    "executionInfo": {
     "elapsed": 11768,
     "status": "ok",
     "timestamp": 1724758981671,
     "user": {
      "displayName": "Yassine Ouzaina",
      "userId": "01912818402851798301"
     },
     "user_tz": -120
    },
    "id": "62af8c9e",
    "outputId": "5225b8cc-0bcf-48ce-ee95-93dcbcc68f50",
    "tags": []
   },
   "outputs": [],
   "source": [
    "# Loading the dataset\n",
    "dataset = load_dataset(\"mychen76/invoices-and-receipts_ocr_v1\")\n",
    "\n",
    "# Model name\n",
    "model_name = \"microsoft/trocr-small-stage1\"\n",
    "\n",
    "# Processor & Model Loading\n",
    "processor = TrOCRProcessor.from_pretrained(model_name)\n",
    "model = VisionEncoderDecoderModel.from_pretrained(model_name).to(device)\n",
    "\n",
    "# Set the decoder start token ID\n",
    "model.config.decoder_start_token_id = processor.tokenizer.cls_token_id\n",
    "\n",
    "# Ensure pad_token_id is set\n",
    "if processor.tokenizer.pad_token is None:\n",
    "    processor.tokenizer.pad_token = processor.tokenizer.eos_token\n",
    "\n",
    "# Set the pad_token_id in the model configuration\n",
    "model.config.pad_token_id = processor.tokenizer.pad_token_id"
   ]
  },
  {
   "cell_type": "markdown",
   "id": "43588e93",
   "metadata": {
    "id": "43588e93"
   },
   "source": [
    "## Image Preprocessing"
   ]
  },
  {
   "cell_type": "code",
   "execution_count": null,
   "id": "8cef80bb",
   "metadata": {
    "executionInfo": {
     "elapsed": 321,
     "status": "ok",
     "timestamp": 1724758991607,
     "user": {
      "displayName": "Yassine Ouzaina",
      "userId": "01912818402851798301"
     },
     "user_tz": -120
    },
    "id": "8cef80bb",
    "tags": []
   },
   "outputs": [],
   "source": [
    "# Function to resize images\n",
    "def resize_image(image, max_width=1024, max_height=1024):\n",
    "    image.thumbnail((max_width, max_height), Image.Resampling.LANCZOS)\n",
    "    return image"
   ]
  },
  {
   "cell_type": "code",
   "execution_count": null,
   "id": "651f25a1",
   "metadata": {
    "executionInfo": {
     "elapsed": 265,
     "status": "ok",
     "timestamp": 1724758993451,
     "user": {
      "displayName": "Yassine Ouzaina",
      "userId": "01912818402851798301"
     },
     "user_tz": -120
    },
    "id": "651f25a1",
    "tags": []
   },
   "outputs": [],
   "source": [
    "# Preprocessing the dataset with resized images\n",
    "def preprocess_batch(batch):\n",
    "    images = [resize_image(img.convert(\"RGB\")) if isinstance(img, Image.Image) else resize_image(Image.open(img).convert(\"RGB\")) for img in batch['image']]\n",
    "\n",
    "    # Get pixel values from the processor\n",
    "    pixel_values = processor(images, return_tensors=\"pt\").pixel_values.to(device)\n",
    "\n",
    "    # Tokenizing the text data\n",
    "    labels = processor.tokenizer(\n",
    "        batch['parsed_data'],\n",
    "        return_tensors=\"pt\",\n",
    "        padding=True,\n",
    "        truncation=True,\n",
    "        max_length=512\n",
    "    ).input_ids.to(device)\n",
    "\n",
    "    return {\n",
    "        \"pixel_values\": pixel_values,\n",
    "        \"labels\": labels\n",
    "    }"
   ]
  },
  {
   "cell_type": "markdown",
   "id": "49dabf39",
   "metadata": {
    "id": "49dabf39"
   },
   "source": [
    "## Custom Data Collator"
   ]
  },
  {
   "cell_type": "code",
   "execution_count": null,
   "id": "f36bfa70",
   "metadata": {
    "executionInfo": {
     "elapsed": 270,
     "status": "ok",
     "timestamp": 1724759014680,
     "user": {
      "displayName": "Yassine Ouzaina",
      "userId": "01912818402851798301"
     },
     "user_tz": -120
    },
    "id": "f36bfa70",
    "tags": []
   },
   "outputs": [],
   "source": [
    "# Custom Data Collator for VisionEncoderDecoderModel\n",
    "def collate_fn(batch):\n",
    "    # Ensure pixel_values are stacked as tensors\n",
    "    pixel_values = torch.stack([torch.tensor(item[\"pixel_values\"]) for item in batch])\n",
    "    labels = torch.stack([torch.tensor(item[\"labels\"]) for item in batch])\n",
    "    \n",
    "    return {\n",
    "        \"pixel_values\": pixel_values,\n",
    "        \"labels\": labels\n",
    "    }"
   ]
  },
  {
   "cell_type": "code",
   "execution_count": null,
   "id": "F8J3xK0uktPF",
   "metadata": {
    "colab": {
     "base_uri": "https://localhost:8080/",
     "height": 49,
     "referenced_widgets": [
      "970b171c268f48d9bc2f1856498b150a",
      "ce987a9bd4d14e9cba90c62879374941",
      "25ef4a16484b4c4abea4dbbe64e9c6fe",
      "973a8b375b88400da1c0a4d7d5ec9483",
      "ac62f91e96574317b86791ef3e1171fa",
      "71ab32c27fa24060bea9928e65b7bed6",
      "521387b5b0e54c5182b9b3e802b74484",
      "60d1165a87c74456a69442d6afcb4451",
      "fd20e0895e534f9dae1820a47905987f",
      "6fa4bbab9a06484e8106f5e60858c6c9",
      "e90c498af64d4a4b99bb20308a0f79f2"
     ]
    },
    "id": "F8J3xK0uktPF",
    "outputId": "8640ba58-1050-42be-c237-51cd71471e07",
    "tags": []
   },
   "outputs": [],
   "source": [
    "# Apply preprocessing\n",
    "preprocessed_dataset = dataset.map(preprocess_batch, batched=True, remove_columns=['id', 'parsed_data', 'raw_data'])\n",
    "\n",
    "# Dataset split\n",
    "train_dataset = preprocessed_dataset['train']\n",
    "eval_dataset = preprocessed_dataset['valid']\n",
    "test_dataset = preprocessed_dataset['test']"
   ]
  },
  {
   "cell_type": "code",
   "execution_count": null,
   "id": "11c209fb-ef1c-48f2-99ec-75b0e6c793f9",
   "metadata": {
    "tags": []
   },
   "outputs": [],
   "source": [
    "# Training arguments\n",
    "training_args = Seq2SeqTrainingArguments(\n",
    "    output_dir=\"./trocr_finetuned_model\",\n",
    "    per_device_train_batch_size=2,\n",
    "    per_device_eval_batch_size=2,\n",
    "    predict_with_generate=True,\n",
    "    eval_strategy=\"epoch\",\n",
    "    logging_dir=\"./logs\",\n",
    "    logging_steps=10,\n",
    "    num_train_epochs=3,\n",
    "    save_steps=500,\n",
    "    save_total_limit=2,\n",
    ")\n",
    "\n",
    "# Initialize the Trainer\n",
    "trainer = Seq2SeqTrainer(\n",
    "    model=model,\n",
    "    args=training_args,\n",
    "    train_dataset=train_dataset,\n",
    "    eval_dataset=eval_dataset,\n",
    "    tokenizer=processor.tokenizer,\n",
    "    data_collator=collate_fn,\n",
    ")"
   ]
  },
  {
   "cell_type": "code",
   "execution_count": null,
   "id": "b4c6a6d6-e60e-413d-94a6-8b9a4d4b0797",
   "metadata": {
    "tags": []
   },
   "outputs": [],
   "source": [
    "# Train the model\n",
    "trainer.train()\n",
    "\n",
    "# Save the model locally\n",
    "model.save_pretrained(\"./trocr_finetuned_model\")\n",
    "processor.save_pretrained(\"./trocr_finetuned_model\")"
   ]
  },
  {
   "cell_type": "code",
   "execution_count": null,
   "id": "45c58cf7-f1be-4ffe-823d-1acd95423b1c",
   "metadata": {},
   "outputs": [],
   "source": []
  }
 ],
 "metadata": {
  "accelerator": "GPU",
  "colab": {
   "gpuType": "T4",
   "provenance": []
  },
  "kernelspec": {
   "display_name": "ocr_env",
   "language": "python",
   "name": "python3"
  },
  "language_info": {
   "codemirror_mode": {
    "name": "ipython",
    "version": 3
   },
   "file_extension": ".py",
   "mimetype": "text/x-python",
   "name": "python",
   "nbconvert_exporter": "python",
   "pygments_lexer": "ipython3",
   "version": "3.12.2"
  },
  "widgets": {
   "application/vnd.jupyter.widget-state+json": {
    "25ef4a16484b4c4abea4dbbe64e9c6fe": {
     "model_module": "@jupyter-widgets/controls",
     "model_module_version": "1.5.0",
     "model_name": "FloatProgressModel",
     "state": {
      "_dom_classes": [],
      "_model_module": "@jupyter-widgets/controls",
      "_model_module_version": "1.5.0",
      "_model_name": "FloatProgressModel",
      "_view_count": null,
      "_view_module": "@jupyter-widgets/controls",
      "_view_module_version": "1.5.0",
      "_view_name": "ProgressView",
      "bar_style": "",
      "description": "",
      "description_tooltip": null,
      "layout": "IPY_MODEL_60d1165a87c74456a69442d6afcb4451",
      "max": 2043,
      "min": 0,
      "orientation": "horizontal",
      "style": "IPY_MODEL_fd20e0895e534f9dae1820a47905987f",
      "value": 0
     }
    },
    "521387b5b0e54c5182b9b3e802b74484": {
     "model_module": "@jupyter-widgets/controls",
     "model_module_version": "1.5.0",
     "model_name": "DescriptionStyleModel",
     "state": {
      "_model_module": "@jupyter-widgets/controls",
      "_model_module_version": "1.5.0",
      "_model_name": "DescriptionStyleModel",
      "_view_count": null,
      "_view_module": "@jupyter-widgets/base",
      "_view_module_version": "1.2.0",
      "_view_name": "StyleView",
      "description_width": ""
     }
    },
    "60d1165a87c74456a69442d6afcb4451": {
     "model_module": "@jupyter-widgets/base",
     "model_module_version": "1.2.0",
     "model_name": "LayoutModel",
     "state": {
      "_model_module": "@jupyter-widgets/base",
      "_model_module_version": "1.2.0",
      "_model_name": "LayoutModel",
      "_view_count": null,
      "_view_module": "@jupyter-widgets/base",
      "_view_module_version": "1.2.0",
      "_view_name": "LayoutView",
      "align_content": null,
      "align_items": null,
      "align_self": null,
      "border": null,
      "bottom": null,
      "display": null,
      "flex": null,
      "flex_flow": null,
      "grid_area": null,
      "grid_auto_columns": null,
      "grid_auto_flow": null,
      "grid_auto_rows": null,
      "grid_column": null,
      "grid_gap": null,
      "grid_row": null,
      "grid_template_areas": null,
      "grid_template_columns": null,
      "grid_template_rows": null,
      "height": null,
      "justify_content": null,
      "justify_items": null,
      "left": null,
      "margin": null,
      "max_height": null,
      "max_width": null,
      "min_height": null,
      "min_width": null,
      "object_fit": null,
      "object_position": null,
      "order": null,
      "overflow": null,
      "overflow_x": null,
      "overflow_y": null,
      "padding": null,
      "right": null,
      "top": null,
      "visibility": null,
      "width": null
     }
    },
    "6fa4bbab9a06484e8106f5e60858c6c9": {
     "model_module": "@jupyter-widgets/base",
     "model_module_version": "1.2.0",
     "model_name": "LayoutModel",
     "state": {
      "_model_module": "@jupyter-widgets/base",
      "_model_module_version": "1.2.0",
      "_model_name": "LayoutModel",
      "_view_count": null,
      "_view_module": "@jupyter-widgets/base",
      "_view_module_version": "1.2.0",
      "_view_name": "LayoutView",
      "align_content": null,
      "align_items": null,
      "align_self": null,
      "border": null,
      "bottom": null,
      "display": null,
      "flex": null,
      "flex_flow": null,
      "grid_area": null,
      "grid_auto_columns": null,
      "grid_auto_flow": null,
      "grid_auto_rows": null,
      "grid_column": null,
      "grid_gap": null,
      "grid_row": null,
      "grid_template_areas": null,
      "grid_template_columns": null,
      "grid_template_rows": null,
      "height": null,
      "justify_content": null,
      "justify_items": null,
      "left": null,
      "margin": null,
      "max_height": null,
      "max_width": null,
      "min_height": null,
      "min_width": null,
      "object_fit": null,
      "object_position": null,
      "order": null,
      "overflow": null,
      "overflow_x": null,
      "overflow_y": null,
      "padding": null,
      "right": null,
      "top": null,
      "visibility": null,
      "width": null
     }
    },
    "71ab32c27fa24060bea9928e65b7bed6": {
     "model_module": "@jupyter-widgets/base",
     "model_module_version": "1.2.0",
     "model_name": "LayoutModel",
     "state": {
      "_model_module": "@jupyter-widgets/base",
      "_model_module_version": "1.2.0",
      "_model_name": "LayoutModel",
      "_view_count": null,
      "_view_module": "@jupyter-widgets/base",
      "_view_module_version": "1.2.0",
      "_view_name": "LayoutView",
      "align_content": null,
      "align_items": null,
      "align_self": null,
      "border": null,
      "bottom": null,
      "display": null,
      "flex": null,
      "flex_flow": null,
      "grid_area": null,
      "grid_auto_columns": null,
      "grid_auto_flow": null,
      "grid_auto_rows": null,
      "grid_column": null,
      "grid_gap": null,
      "grid_row": null,
      "grid_template_areas": null,
      "grid_template_columns": null,
      "grid_template_rows": null,
      "height": null,
      "justify_content": null,
      "justify_items": null,
      "left": null,
      "margin": null,
      "max_height": null,
      "max_width": null,
      "min_height": null,
      "min_width": null,
      "object_fit": null,
      "object_position": null,
      "order": null,
      "overflow": null,
      "overflow_x": null,
      "overflow_y": null,
      "padding": null,
      "right": null,
      "top": null,
      "visibility": null,
      "width": null
     }
    },
    "970b171c268f48d9bc2f1856498b150a": {
     "model_module": "@jupyter-widgets/controls",
     "model_module_version": "1.5.0",
     "model_name": "HBoxModel",
     "state": {
      "_dom_classes": [],
      "_model_module": "@jupyter-widgets/controls",
      "_model_module_version": "1.5.0",
      "_model_name": "HBoxModel",
      "_view_count": null,
      "_view_module": "@jupyter-widgets/controls",
      "_view_module_version": "1.5.0",
      "_view_name": "HBoxView",
      "box_style": "",
      "children": [
       "IPY_MODEL_ce987a9bd4d14e9cba90c62879374941",
       "IPY_MODEL_25ef4a16484b4c4abea4dbbe64e9c6fe",
       "IPY_MODEL_973a8b375b88400da1c0a4d7d5ec9483"
      ],
      "layout": "IPY_MODEL_ac62f91e96574317b86791ef3e1171fa"
     }
    },
    "973a8b375b88400da1c0a4d7d5ec9483": {
     "model_module": "@jupyter-widgets/controls",
     "model_module_version": "1.5.0",
     "model_name": "HTMLModel",
     "state": {
      "_dom_classes": [],
      "_model_module": "@jupyter-widgets/controls",
      "_model_module_version": "1.5.0",
      "_model_name": "HTMLModel",
      "_view_count": null,
      "_view_module": "@jupyter-widgets/controls",
      "_view_module_version": "1.5.0",
      "_view_name": "HTMLView",
      "description": "",
      "description_tooltip": null,
      "layout": "IPY_MODEL_6fa4bbab9a06484e8106f5e60858c6c9",
      "placeholder": "​",
      "style": "IPY_MODEL_e90c498af64d4a4b99bb20308a0f79f2",
      "value": " 0/2043 [00:00&lt;?, ? examples/s]"
     }
    },
    "ac62f91e96574317b86791ef3e1171fa": {
     "model_module": "@jupyter-widgets/base",
     "model_module_version": "1.2.0",
     "model_name": "LayoutModel",
     "state": {
      "_model_module": "@jupyter-widgets/base",
      "_model_module_version": "1.2.0",
      "_model_name": "LayoutModel",
      "_view_count": null,
      "_view_module": "@jupyter-widgets/base",
      "_view_module_version": "1.2.0",
      "_view_name": "LayoutView",
      "align_content": null,
      "align_items": null,
      "align_self": null,
      "border": null,
      "bottom": null,
      "display": null,
      "flex": null,
      "flex_flow": null,
      "grid_area": null,
      "grid_auto_columns": null,
      "grid_auto_flow": null,
      "grid_auto_rows": null,
      "grid_column": null,
      "grid_gap": null,
      "grid_row": null,
      "grid_template_areas": null,
      "grid_template_columns": null,
      "grid_template_rows": null,
      "height": null,
      "justify_content": null,
      "justify_items": null,
      "left": null,
      "margin": null,
      "max_height": null,
      "max_width": null,
      "min_height": null,
      "min_width": null,
      "object_fit": null,
      "object_position": null,
      "order": null,
      "overflow": null,
      "overflow_x": null,
      "overflow_y": null,
      "padding": null,
      "right": null,
      "top": null,
      "visibility": null,
      "width": null
     }
    },
    "ce987a9bd4d14e9cba90c62879374941": {
     "model_module": "@jupyter-widgets/controls",
     "model_module_version": "1.5.0",
     "model_name": "HTMLModel",
     "state": {
      "_dom_classes": [],
      "_model_module": "@jupyter-widgets/controls",
      "_model_module_version": "1.5.0",
      "_model_name": "HTMLModel",
      "_view_count": null,
      "_view_module": "@jupyter-widgets/controls",
      "_view_module_version": "1.5.0",
      "_view_name": "HTMLView",
      "description": "",
      "description_tooltip": null,
      "layout": "IPY_MODEL_71ab32c27fa24060bea9928e65b7bed6",
      "placeholder": "​",
      "style": "IPY_MODEL_521387b5b0e54c5182b9b3e802b74484",
      "value": "Map:   0%"
     }
    },
    "e90c498af64d4a4b99bb20308a0f79f2": {
     "model_module": "@jupyter-widgets/controls",
     "model_module_version": "1.5.0",
     "model_name": "DescriptionStyleModel",
     "state": {
      "_model_module": "@jupyter-widgets/controls",
      "_model_module_version": "1.5.0",
      "_model_name": "DescriptionStyleModel",
      "_view_count": null,
      "_view_module": "@jupyter-widgets/base",
      "_view_module_version": "1.2.0",
      "_view_name": "StyleView",
      "description_width": ""
     }
    },
    "fd20e0895e534f9dae1820a47905987f": {
     "model_module": "@jupyter-widgets/controls",
     "model_module_version": "1.5.0",
     "model_name": "ProgressStyleModel",
     "state": {
      "_model_module": "@jupyter-widgets/controls",
      "_model_module_version": "1.5.0",
      "_model_name": "ProgressStyleModel",
      "_view_count": null,
      "_view_module": "@jupyter-widgets/base",
      "_view_module_version": "1.2.0",
      "_view_name": "StyleView",
      "bar_color": null,
      "description_width": ""
     }
    }
   }
  }
 },
 "nbformat": 4,
 "nbformat_minor": 5
}
